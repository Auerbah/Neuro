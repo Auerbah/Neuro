{
 "cells": [
  {
   "cell_type": "markdown",
   "metadata": {
    "collapsed": true
   },
   "source": [
    "Перевод из одной системы счисления в другую:"
   ]
  },
  {
   "cell_type": "code",
   "execution_count": 1,
   "metadata": {},
   "outputs": [],
   "source": [
    "def convert_base(num, to_base=10, from_base=10):\n",
    "    # first convert to decimal number\n",
    "    if isinstance(num, str):\n",
    "        n = int(num, from_base)\n",
    "    else:\n",
    "        n = int(num)\n",
    "    # now convert decimal to 'to_base' base\n",
    "    alphabet = \"0123456789ABCDEFGHIJKLMNOPQRSTUVWXYZ\"\n",
    "    if n < to_base:\n",
    "        return alphabet[n]\n",
    "    else:\n",
    "        return convert_base(n // to_base, to_base) + alphabet[n % to_base]"
   ]
  },
  {
   "cell_type": "code",
   "execution_count": 8,
   "metadata": {},
   "outputs": [
    {
     "data": {
      "text/plain": [
       "'2'"
      ]
     },
     "execution_count": 8,
     "metadata": {},
     "output_type": "execute_result"
    }
   ],
   "source": [
    "a = convert_base('10', 10, 2)\n",
    "b = int(a)\n",
    "b\n",
    "c = str(b)\n",
    "c"
   ]
  },
  {
   "cell_type": "code",
   "execution_count": null,
   "metadata": {},
   "outputs": [
    {
     "name": "stdout",
     "output_type": "stream",
     "text": [
      "i =  7\nA =  121\n"
     ]
    }
   ],
   "source": [
    "b = '232'\n",
    "c = '1026'\n",
    "for i in range(5, 16):\n",
    "        A = int(convert_base(b, 10, i))\n",
    "        res = 3 * A\n",
    "        s = str(res)\n",
    "        if c == convert_base(s, i, 10):\n",
    "            print(\"i = \", i)\n",
    "            print(\"A = \", A)"
   ]
  },
  {
   "cell_type": "code",
   "execution_count": 22,
   "metadata": {},
   "outputs": [
    {
     "data": {
      "text/plain": [
       "8640"
      ]
     },
     "execution_count": 22,
     "metadata": {},
     "output_type": "execute_result"
    }
   ],
   "source": [
    "import math\n",
    "9*8*(8*8+7*8)"
   ]
  },
  {
   "cell_type": "code",
   "execution_count": 16,
   "metadata": {},
   "outputs": [
    {
     "data": {
      "text/plain": [
       "0.2799999999999999"
      ]
     },
     "execution_count": 16,
     "metadata": {},
     "output_type": "execute_result"
    }
   ],
   "source": [
    "1-0.8*0.9"
   ]
  },
  {
   "cell_type": "code",
   "execution_count": 18,
   "metadata": {},
   "outputs": [
    {
     "data": {
      "text/plain": [
       "0.98"
      ]
     },
     "execution_count": 18,
     "metadata": {},
     "output_type": "execute_result"
    }
   ],
   "source": [
    "1-(1-0.8)*(1-0.9) "
   ]
  },
  {
   "cell_type": "code",
   "execution_count": 19,
   "metadata": {},
   "outputs": [
    {
     "data": {
      "text/plain": [
       "0.9800000000000002"
      ]
     },
     "execution_count": 19,
     "metadata": {},
     "output_type": "execute_result"
    }
   ],
   "source": [
    "0.8*0.9+0.2*0.9+0.1*0.8"
   ]
  },
  {
   "cell_type": "code",
   "execution_count": 26,
   "metadata": {},
   "outputs": [
    {
     "name": "stdout",
     "output_type": "stream",
     "text": [
      "1 1 1 5\n1 1 2 4\n1 1 3 3\n1 1 4 2\n1 1 5 1\n1 2 1 4\n1 2 2 3\n1 2 3 2\n1 2 4 1\n1 3 1 3\n1 3 2 2\n1 3 3 1\n1 4 1 2\n1 4 2 1\n1 5 1 1\n2 1 1 4\n2 1 2 3\n2 1 3 2\n2 1 4 1\n2 2 1 3\n2 2 2 2\n2 2 3 1\n2 3 1 2\n2 3 2 1\n2 4 1 1\n3 1 1 3\n3 1 2 2\n3 1 3 1\n3 2 1 2\n3 2 2 1\n3 3 1 1\n4 1 1 2\n4 1 2 1\n4 2 1 1\n5 1 1 1\n35\n"
     ]
    }
   ],
   "source": [
    "s = 0\n",
    "for i1 in range(1,8):\n",
    "    for i2 in range(1,8):\n",
    "        for i3 in range(1,8):\n",
    "            for i4 in range(1,8):\n",
    "                if i1+i2+i3+i4 == 8:\n",
    "                    print(i1,i2,i3,i4)\n",
    "                    s+=1\n",
    "\n",
    "print(s)"
   ]
  },
  {
   "cell_type": "code",
   "execution_count": 29,
   "metadata": {},
   "outputs": [
    {
     "name": "stdout",
     "output_type": "stream",
     "text": [
      "1\n2\n"
     ]
    },
    {
     "name": "stdout",
     "output_type": "stream",
     "text": [
      "3\n4\n"
     ]
    },
    {
     "name": "stdout",
     "output_type": "stream",
     "text": [
      "6\n7\n"
     ]
    },
    {
     "name": "stdout",
     "output_type": "stream",
     "text": [
      "8\n11\n"
     ]
    },
    {
     "name": "stdout",
     "output_type": "stream",
     "text": [
      "12\n13\n"
     ]
    },
    {
     "name": "stdout",
     "output_type": "stream",
     "text": [
      "16\n17\n"
     ]
    },
    {
     "name": "stdout",
     "output_type": "stream",
     "text": [
      "21\n22\n"
     ]
    },
    {
     "name": "stdout",
     "output_type": "stream",
     "text": [
      "26\n31\n"
     ]
    }
   ],
   "source": [
    "def foo(S, a, b):\n",
    "    for n1 in range(0, 1000):\n",
    "        for n2 in range(0, 1000):\n",
    "            if n1 * a + n2 * b == S:\n",
    "                return\n",
    "    print(S)\n",
    "    \n",
    "    \n",
    "a = 5\n",
    "b = 9\n",
    "for S in range(1,1000):\n",
    "    foo(S, a, b)"
   ]
  },
  {
   "cell_type": "code",
   "execution_count": 36,
   "metadata": {},
   "outputs": [
    {
     "name": "stdout",
     "output_type": "stream",
     "text": [
      "271\n"
     ]
    }
   ],
   "source": [
    "n = 0\n",
    "for i in range(1, 1003):\n",
    "    if '3' in str(i):\n",
    "        n += 1\n",
    "print(n)"
   ]
  },
  {
   "cell_type": "code",
   "execution_count": 37,
   "metadata": {},
   "outputs": [
    {
     "data": {
      "text/plain": [
       "5157250560"
      ]
     },
     "execution_count": 37,
     "metadata": {},
     "output_type": "execute_result"
    }
   ],
   "source": [
    "12*11*(10+11)*(9+11)*(8+11)*(7+11)*(6+11)*(5+11)"
   ]
  },
  {
   "cell_type": "code",
   "execution_count": null,
   "metadata": {},
   "outputs": [],
   "source": []
  }
 ],
 "metadata": {
  "kernelspec": {
   "display_name": "Python 3",
   "language": "python",
   "name": "python3"
  },
  "language_info": {
   "codemirror_mode": {
    "name": "ipython",
    "version": 3
   },
   "file_extension": ".py",
   "mimetype": "text/x-python",
   "name": "python",
   "nbconvert_exporter": "python",
   "pygments_lexer": "ipython3",
   "version": "3.6.4"
  }
 },
 "nbformat": 4,
 "nbformat_minor": 1
}
