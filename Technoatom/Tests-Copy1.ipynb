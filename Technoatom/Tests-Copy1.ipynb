{
 "cells": [
  {
   "cell_type": "markdown",
   "metadata": {},
   "source": [
    "1) Решите логическое уравнение:\n",
    "!X => !Y = 0\n",
    "\n",
    "Решение:\n",
    "https://www.wolframalpha.com/input/?i=truth+table+not+X+%3D%3E+not+Y\n",
    "\n",
    "Ответ:\n",
    "X = 0\n",
    "Y = 1"
   ]
  },
  {
   "cell_type": "markdown",
   "metadata": {},
   "source": [
    "2) На доске было написано логическое выражение, но кто-то стер одну переменную. И осталось следующее выражение (стертая операция обозначена знаком “_”)\n",
    "(A||B&&!C)&&_\n",
    "Какая переменная могла быть стерта, если известно, что при А=0, B=0, C=1 и при А=1, В=0, С=0 значение исходного выражения равно 0?\n",
    "\n",
    "Ответ: B, C"
   ]
  },
  {
   "cell_type": "markdown",
   "metadata": {},
   "source": [
    "3) Таблица какой логической функции представлена ниже?\n",
    "0 0 1 1\n",
    "0 1 0 1\n",
    "-------\n",
    "0 1 1 0\n",
    "\n",
    "Ответ: Исключающее ИЛИ"
   ]
  },
  {
   "cell_type": "markdown",
   "metadata": {},
   "source": [
    "4) У продавца имеется неограниченное количество монет достоинством 1 и 2 рубля. Сколькими способами он может дать сдачу, составляющую 47 рубля?\n",
    "\n",
    "Ответ: 24\n",
    "\n",
    "Решение:"
   ]
  },
  {
   "cell_type": "code",
   "execution_count": 3,
   "metadata": {},
   "outputs": [
    {
     "name": "stdout",
     "output_type": "stream",
     "text": [
      "1\n",
      "2\n",
      "3\n",
      "4\n",
      "5\n",
      "6\n",
      "7\n",
      "8\n",
      "9\n",
      "10\n",
      "11\n",
      "12\n",
      "13\n",
      "14\n",
      "15\n",
      "16\n",
      "17\n",
      "18\n",
      "19\n",
      "20\n",
      "21\n",
      "22\n",
      "23\n",
      "24\n"
     ]
    }
   ],
   "source": [
    "a = 1\n",
    "b = 2\n",
    "i = 0\n",
    "S = 47\n",
    "for n1 in range(0, 1000):\n",
    "    for n2 in range(0, 1000):\n",
    "        if n1 * a + n2 * b == S:\n",
    "            i += 1\n",
    "            print(i)"
   ]
  },
  {
   "cell_type": "markdown",
   "metadata": {},
   "source": [
    "5) Таблица какой логической функции представлена ниже?\n",
    "0 0 1 1\n",
    "0 1 0 1\n",
    "--------\n",
    "0 1 1 1\n",
    "\n",
    "Ответ: ИЛИ\n"
   ]
  },
  {
   "cell_type": "markdown",
   "metadata": {},
   "source": [
    "6) Из колоды карт, состоящую из 36 карт, наугад вытаскивают две карты. Каково количество возможных исходов, в которых одна из карт – король, а другая пиковой масти?\n",
    "\n",
    "Ответ: 70\n",
    "\n",
    "Решение:"
   ]
  },
  {
   "cell_type": "code",
   "execution_count": 5,
   "metadata": {},
   "outputs": [
    {
     "data": {
      "text/plain": [
       "70"
      ]
     },
     "execution_count": 5,
     "metadata": {},
     "output_type": "execute_result"
    }
   ],
   "source": [
    "2*(3*9+1*8)"
   ]
  },
  {
   "cell_type": "markdown",
   "metadata": {},
   "source": [
    "7) Студент Андрей спросил у своего одногрупнника время. Оторвавшись от чтения увлекательной книги про системы счисления, он ответил, что сейчас 31 час, 321 минута. Поразмыслив, Андрей понял, что его одногруппник верно сказал время, только в другой системе счисления, и смог определить основание этой системы счисления.\n",
    "Сколько времени было в момент задания вопроса?\n",
    "Ответ дайте в десятичной системе счисления в формате hh:mm (например, 09:00). Если вы считаете, что нельзя однозначно узнать время и основание системы счисления, введите -1.\n",
    "\n",
    "Ответ: 13:57"
   ]
  },
  {
   "cell_type": "markdown",
   "metadata": {},
   "source": [
    "8) Выберите эквивалентное логическое выражение:\n",
    "(A&&B)||(A||B)||(B&&C)\n",
    "\n",
    "Решение:\n",
    "https://www.wolframalpha.com/input/?i=(A%26%26B)%7C%7C(A%7C%7CB)%7C%7C(B%26%26C)\n",
    "\n",
    "Ответ: A||B"
   ]
  },
  {
   "cell_type": "markdown",
   "metadata": {},
   "source": [
    "9) Программа выводит ряд “особенных”, по мнению разработчика, чисел:\n",
    "2, 12, 56, 240, …\n",
    "Какое число должно быть следующим?\n",
    "\n",
    "Ответ: 992"
   ]
  },
  {
   "cell_type": "markdown",
   "metadata": {},
   "source": [
    "10) На доске было написано логическое выражение, но кто-то стер одну переменную. И осталось следующее выражение (стертая операция обозначена знаком “_”)\n",
    "(A+_)&&!C&&A||B\n",
    "Какая переменная могла быть стерта, если известно, что при А=1, B=0, C=0 и при А=1, В=0, С=0 значение исходного выражения равно 0?\n",
    "\n",
    "Ответ: B, C\n"
   ]
  },
  {
   "cell_type": "markdown",
   "metadata": {},
   "source": [
    "11) Даны записи двух чисел в четырнадцатеричной системе счисления:\n",
    "323B4D34320764\n",
    "AC658BD0177508\n",
    "Делятся ли эти числа на 52?\n",
    "\n",
    "Ответ: Делится только первое число"
   ]
  },
  {
   "cell_type": "code",
   "execution_count": 7,
   "metadata": {},
   "outputs": [
    {
     "data": {
      "text/plain": [
       "140"
      ]
     },
     "execution_count": 7,
     "metadata": {},
     "output_type": "execute_result"
    }
   ],
   "source": [
    "(0+1+4+15+16+25+79)"
   ]
  },
  {
   "cell_type": "code",
   "execution_count": 8,
   "metadata": {},
   "outputs": [
    {
     "data": {
      "text/plain": [
       "3.1500000000000004"
      ]
     },
     "execution_count": 8,
     "metadata": {},
     "output_type": "execute_result"
    }
   ],
   "source": [
    "45*0.07"
   ]
  },
  {
   "cell_type": "code",
   "execution_count": 10,
   "metadata": {},
   "outputs": [
    {
     "data": {
      "text/plain": [
       "93312"
      ]
     },
     "execution_count": 10,
     "metadata": {},
     "output_type": "execute_result"
    }
   ],
   "source": [
    "9*8*(8*8*8+7*8*8+7*6*8)"
   ]
  },
  {
   "cell_type": "code",
   "execution_count": null,
   "metadata": {},
   "outputs": [],
   "source": [
    "(6+7)*(7+8)*9"
   ]
  },
  {
   "cell_type": "markdown",
   "metadata": {
    "collapsed": true
   },
   "source": [
    "Перевод из одной системы счисления в другую:"
   ]
  },
  {
   "cell_type": "markdown",
   "metadata": {},
   "source": []
  },
  {
   "cell_type": "code",
   "execution_count": 1,
   "metadata": {},
   "outputs": [],
   "source": [
    "def convert_base(num, to_base=10, from_base=10):\n",
    "    # first convert to decimal number\n",
    "    if isinstance(num, str):\n",
    "        n = int(num, from_base)\n",
    "    else:\n",
    "        n = int(num)\n",
    "    # now convert decimal to 'to_base' base\n",
    "    alphabet = \"0123456789ABCDEFGHIJKLMNOPQRSTUVWXYZ\"\n",
    "    if n < to_base:\n",
    "        return alphabet[n]\n",
    "    else:\n",
    "        return convert_base(n // to_base, to_base) + alphabet[n % to_base]"
   ]
  },
  {
   "cell_type": "code",
   "execution_count": 8,
   "metadata": {},
   "outputs": [
    {
     "data": {
      "text/plain": [
       "'2'"
      ]
     },
     "execution_count": 8,
     "metadata": {},
     "output_type": "execute_result"
    }
   ],
   "source": [
    "a = convert_base('10', 10, 2)\n",
    "b = int(a)\n",
    "b\n",
    "c = str(b)\n",
    "c"
   ]
  },
  {
   "cell_type": "code",
   "execution_count": 13,
   "metadata": {},
   "outputs": [
    {
     "name": "stdout",
     "output_type": "stream",
     "text": [
      "i =  7\n",
      "A =  121\n"
     ]
    }
   ],
   "source": [
    "b = '232'\n",
    "c = '1026'\n",
    "for i in range(5, 16):\n",
    "        A = int(convert_base(b, 10, i))\n",
    "        res = 3 * A\n",
    "        s = str(res)\n",
    "        if c == convert_base(s, i, 10):\n",
    "            print(\"i = \", i)\n",
    "            print(\"A = \", A)"
   ]
  },
  {
   "cell_type": "code",
   "execution_count": 22,
   "metadata": {},
   "outputs": [
    {
     "data": {
      "text/plain": [
       "8640"
      ]
     },
     "execution_count": 22,
     "metadata": {},
     "output_type": "execute_result"
    }
   ],
   "source": [
    "import math\n",
    "9*8*(8*8+7*8)"
   ]
  },
  {
   "cell_type": "code",
   "execution_count": 16,
   "metadata": {},
   "outputs": [
    {
     "data": {
      "text/plain": [
       "0.2799999999999999"
      ]
     },
     "execution_count": 16,
     "metadata": {},
     "output_type": "execute_result"
    }
   ],
   "source": [
    "1-0.8*0.9"
   ]
  },
  {
   "cell_type": "code",
   "execution_count": 18,
   "metadata": {},
   "outputs": [
    {
     "data": {
      "text/plain": [
       "0.98"
      ]
     },
     "execution_count": 18,
     "metadata": {},
     "output_type": "execute_result"
    }
   ],
   "source": [
    "1-(1-0.8)*(1-0.9) "
   ]
  },
  {
   "cell_type": "code",
   "execution_count": 19,
   "metadata": {},
   "outputs": [
    {
     "data": {
      "text/plain": [
       "0.9800000000000002"
      ]
     },
     "execution_count": 19,
     "metadata": {},
     "output_type": "execute_result"
    }
   ],
   "source": [
    "0.8*0.9+0.2*0.9+0.1*0.8"
   ]
  },
  {
   "cell_type": "code",
   "execution_count": 26,
   "metadata": {},
   "outputs": [
    {
     "name": "stdout",
     "output_type": "stream",
     "text": [
      "1 1 1 5\n",
      "1 1 2 4\n",
      "1 1 3 3\n",
      "1 1 4 2\n",
      "1 1 5 1\n",
      "1 2 1 4\n",
      "1 2 2 3\n",
      "1 2 3 2\n",
      "1 2 4 1\n",
      "1 3 1 3\n",
      "1 3 2 2\n",
      "1 3 3 1\n",
      "1 4 1 2\n",
      "1 4 2 1\n",
      "1 5 1 1\n",
      "2 1 1 4\n",
      "2 1 2 3\n",
      "2 1 3 2\n",
      "2 1 4 1\n",
      "2 2 1 3\n",
      "2 2 2 2\n",
      "2 2 3 1\n",
      "2 3 1 2\n",
      "2 3 2 1\n",
      "2 4 1 1\n",
      "3 1 1 3\n",
      "3 1 2 2\n",
      "3 1 3 1\n",
      "3 2 1 2\n",
      "3 2 2 1\n",
      "3 3 1 1\n",
      "4 1 1 2\n",
      "4 1 2 1\n",
      "4 2 1 1\n",
      "5 1 1 1\n",
      "35\n"
     ]
    }
   ],
   "source": [
    "s = 0\n",
    "for i1 in range(1,8):\n",
    "    for i2 in range(1,8):\n",
    "        for i3 in range(1,8):\n",
    "            for i4 in range(1,8):\n",
    "                if i1+i2+i3+i4 == 8:\n",
    "                    print(i1,i2,i3,i4)\n",
    "                    s+=1\n",
    "\n",
    "print(s)"
   ]
  },
  {
   "cell_type": "code",
   "execution_count": 29,
   "metadata": {},
   "outputs": [
    {
     "name": "stdout",
     "output_type": "stream",
     "text": [
      "1\n",
      "2\n",
      "3\n",
      "4\n",
      "6\n",
      "7\n",
      "8\n",
      "11\n",
      "12\n",
      "13\n",
      "16\n",
      "17\n",
      "21\n",
      "22\n",
      "26\n",
      "31\n"
     ]
    }
   ],
   "source": [
    "def foo(S, a, b):\n",
    "    for n1 in range(0, 1000):\n",
    "        for n2 in range(0, 1000):\n",
    "            if n1 * a + n2 * b == S:\n",
    "                return\n",
    "    print(S)\n",
    "    \n",
    "    \n",
    "a = 5\n",
    "b = 9\n",
    "for S in range(1,1000):\n",
    "    foo(S, a, b)"
   ]
  },
  {
   "cell_type": "code",
   "execution_count": 36,
   "metadata": {},
   "outputs": [
    {
     "name": "stdout",
     "output_type": "stream",
     "text": [
      "271\n"
     ]
    }
   ],
   "source": [
    "n = 0\n",
    "for i in range(1, 1003):\n",
    "    if '3' in str(i):\n",
    "        n += 1\n",
    "print(n)"
   ]
  },
  {
   "cell_type": "code",
   "execution_count": 37,
   "metadata": {},
   "outputs": [
    {
     "data": {
      "text/plain": [
       "5157250560"
      ]
     },
     "execution_count": 37,
     "metadata": {},
     "output_type": "execute_result"
    }
   ],
   "source": [
    "12*11*(10+11)*(9+11)*(8+11)*(7+11)*(6+11)*(5+11)"
   ]
  },
  {
   "cell_type": "code",
   "execution_count": null,
   "metadata": {},
   "outputs": [],
   "source": []
  }
 ],
 "metadata": {
  "kernelspec": {
   "display_name": "Python 3",
   "language": "python",
   "name": "python3"
  },
  "language_info": {
   "codemirror_mode": {
    "name": "ipython",
    "version": 3
   },
   "file_extension": ".py",
   "mimetype": "text/x-python",
   "name": "python",
   "nbconvert_exporter": "python",
   "pygments_lexer": "ipython3",
   "version": "3.6.4"
  }
 },
 "nbformat": 4,
 "nbformat_minor": 1
}
