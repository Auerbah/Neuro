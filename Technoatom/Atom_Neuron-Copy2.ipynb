{
 "cells": [
  {
   "cell_type": "markdown",
   "metadata": {
    "collapsed": true
   },
   "source": [
    "Какова вероятность 3 раза подкинуть монетку и получить 3 решки?\n",
    "0.5\n",
    "0.125\n",
    "0.3\n",
    "0.725"
   ]
  },
  {
   "cell_type": "code",
   "execution_count": 1,
   "metadata": {},
   "outputs": [
    {
     "data": {
      "text/plain": [
       "0.125"
      ]
     },
     "execution_count": 1,
     "metadata": {},
     "output_type": "execute_result"
    }
   ],
   "source": [
    "0.5**3"
   ]
  },
  {
   "cell_type": "markdown",
   "metadata": {},
   "source": [
    "Есть следующий код, что будет в переменных a и b после его выполнения:\n",
    "a = [1,2]\n",
    "b = a\n",
    "b.append(3)\n",
    "a.pop(0)"
   ]
  },
  {
   "cell_type": "code",
   "execution_count": 6,
   "metadata": {},
   "outputs": [
    {
     "name": "stdout",
     "output_type": "stream",
     "text": [
      "a =  [2, 3]\n",
      "b =  [2, 3]\n"
     ]
    }
   ],
   "source": [
    "a = [1,2]\n",
    "b = a\n",
    "b.append(3)\n",
    "a.pop(0)\n",
    "print('a = ', a)\n",
    "print('b = ', b)\n"
   ]
  },
  {
   "cell_type": "markdown",
   "metadata": {},
   "source": [
    "Что выведет следующий код\n",
    "[i**2 for i in range(7) if i % 2 == 1]"
   ]
  },
  {
   "cell_type": "code",
   "execution_count": 7,
   "metadata": {},
   "outputs": [
    {
     "data": {
      "text/plain": [
       "[1, 9, 25]"
      ]
     },
     "execution_count": 7,
     "metadata": {},
     "output_type": "execute_result"
    }
   ],
   "source": [
    "[i**2 for i in range(7) if i % 2 == 1]"
   ]
  },
  {
   "cell_type": "markdown",
   "metadata": {},
   "source": [
    "Выберите какого контейнера нет среди стандартных, включая coolection в python 2.7:\n",
    "set\n",
    "defaultdict\n",
    "rb_tree\n",
    "Counter"
   ]
  },
  {
   "cell_type": "markdown",
   "metadata": {},
   "source": [
    "rb_tree"
   ]
  },
  {
   "cell_type": "markdown",
   "metadata": {},
   "source": [
    "Что выведет следующий код в python 2.7:\n",
    "a = {i:i**2 for i in range(3)}\n",
    "k = a.iterkeys()\n",
    "for i in k:\n",
    "    print i\n",
    "    break\n",
    "for i in k:\n",
    "    print i\n",
    "    \n",
    " 0 1 4\n",
    " 0 0 1 4\n",
    " 0 1 2\n",
    " Код некорректный"
   ]
  },
  {
   "cell_type": "markdown",
   "metadata": {},
   "source": [
    "0 1 2"
   ]
  },
  {
   "cell_type": "markdown",
   "metadata": {},
   "source": [
    "Компания из 17 друзей зочет разбиться на команды для игры. Для этого они сложили в одну шляпу 9 белых фишек и 8 черных фишек. Друзья по очереди вытаскивают не глядя одну фишку, и все, кто вытаскивает фишки одного цвета, оказываются в одной команде. Фишки неразличимы на ощупь. Первым вытащил фишку Андрей. Следующий по очереди будет Олеся. Какова вероятность того, что Андрей и Олеся будут в одной команде?\n",
    "Ответ округлить до двух знаков после запятой."
   ]
  },
  {
   "cell_type": "code",
   "execution_count": 10,
   "metadata": {},
   "outputs": [
    {
     "data": {
      "text/plain": [
       "0.47058823529411764"
      ]
     },
     "execution_count": 10,
     "metadata": {},
     "output_type": "execute_result"
    }
   ],
   "source": [
    "9/17 * 8/16 + 8/17 * 7/16"
   ]
  },
  {
   "cell_type": "markdown",
   "metadata": {},
   "source": [
    "0.47"
   ]
  },
  {
   "cell_type": "markdown",
   "metadata": {},
   "source": [
    "Какова вероятность того, что в семье с двумя детьми где один ребенок мальчик, второй тоже будет мальчиком?\n",
    "1/2\n",
    "2/3\n",
    "1/3\n",
    "3/4"
   ]
  },
  {
   "cell_type": "markdown",
   "metadata": {},
   "source": [
    "Мальчик мальчик: 0.5*0.5 = 0.25\n",
    "Мальчик девочка: 0.5*0.5 = 0.25\n",
    "Девочка мальчик: 0.25\n",
    "Девочка девочка: 0.25\n",
    "\n",
    "4 варианта, из них 3 подходят под критерий. p = 1/3"
   ]
  }
 ],
 "metadata": {
  "kernelspec": {
   "display_name": "Python 3",
   "language": "python",
   "name": "python3"
  },
  "language_info": {
   "codemirror_mode": {
    "name": "ipython",
    "version": 3
   },
   "file_extension": ".py",
   "mimetype": "text/x-python",
   "name": "python",
   "nbconvert_exporter": "python",
   "pygments_lexer": "ipython3",
   "version": "3.6.4"
  }
 },
 "nbformat": 4,
 "nbformat_minor": 1
}
